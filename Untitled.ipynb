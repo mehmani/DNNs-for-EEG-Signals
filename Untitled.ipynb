{
 "cells": [
  {
   "cell_type": "markdown",
   "metadata": {},
   "source": [
    "Load the Data:\n",
    "- Column 1: Subject ID \n",
    "- Column 2: Video ID\n",
    "- Column 3: Attention (Proprietary measure of mental focus)\n",
    "- Column 4: Mediation (Proprietary measure of calmness)\n",
    "- Column 5: Raw (Raw EEG signal)\n",
    "- Column 6: Delta (1-3 Hz of power spectrum)\n",
    "- Column 7: Theta (4-7 Hz of power spectrum)\n",
    "- Column 8: Alpha 1 (Lower 8-11 Hz of power spectrum)\n",
    "- Column 9: Alpha 2 (Higher 8-11 Hz of power spectrum)\n",
    "- Column 10: Beta 1 (Lower 12-29 Hz of power spectrum)\n",
    "- Column 11: Beta 2 (Higher 12-29 Hz of power spectrum)\n",
    "- Column 12: Gamma 1 (Lower 30-100 Hz of power spectrum)\n",
    "- Column 13: Gamma 2 (Higher 30-100 Hz of power spectrum)\n",
    "- Column 14: predefined label (whether the subject is expected to be confused)\n",
    "- Column 15: user-defined label (whether the subject is actually confused)"
   ]
  },
  {
   "cell_type": "code",
   "execution_count": 4,
   "metadata": {},
   "outputs": [],
   "source": [
    "from pandas import read_csv\n",
    "import matplotlib.pyplot as plt\n",
    "from matplotlib import pyplot as plt\n",
    "import numpy as np\n",
    "np.random.seed = 3\n",
    "dataset = read_csv('EEGdata.csv', engine = 'python', skipfooter=2)\n",
    "dataset = dataset.values.astype('float32')"
   ]
  },
  {
   "cell_type": "markdown",
   "metadata": {
    "collapsed": true
   },
   "source": [
    "#### First we only consider the EGG data:"
   ]
  },
  {
   "cell_type": "code",
   "execution_count": 5,
   "metadata": {},
   "outputs": [
    {
     "name": "stdout",
     "output_type": "stream",
     "text": [
      "(12808, 15)\n",
      "(11549, 15)\n",
      "(1259, 15)\n"
     ]
    }
   ],
   "source": [
    "Leave_One_Out = 9\n",
    "print(dataset.shape)\n",
    "Train =  dataset [(dataset[:,0]!=Leave_One_Out)]\n",
    "print(Train.shape)\n",
    "Test =  dataset [(dataset[:,0]==Leave_One_Out)]\n",
    "print(Test.shape)"
   ]
  },
  {
   "cell_type": "code",
   "execution_count": 7,
   "metadata": {},
   "outputs": [
    {
     "name": "stdout",
     "output_type": "stream",
     "text": [
      "144\n"
     ]
    }
   ],
   "source": [
    "# Manual Padding:\n",
    "VideoID = list(set(dataset[:,1]))\n",
    "SubjectID = list(set(dataset[:,0])) \n",
    "import numpy as np\n",
    "A=0\n",
    "for i in range(len(SubjectID)):\n",
    "    for j in range(len(VideoID)):\n",
    "        Xtemp=dataset[(dataset[:,0]==SubjectID[i]) & (dataset[:,1]==VideoID[j])]\n",
    "        A = max(len(Xtemp[:,14]),A)\n",
    "print(A)"
   ]
  },
  {
   "cell_type": "code",
   "execution_count": 8,
   "metadata": {},
   "outputs": [],
   "source": [
    "TrainNumber = 0   \n",
    "Xtrain = {}\n",
    "ytrain = {}\n",
    "VideoID = list(set(Train[:,1]))\n",
    "SubjectID = list(set(Train[:,0])) \n",
    "for i in range(len(SubjectID)):\n",
    "    for j in range(len(VideoID)):\n",
    "        Xtemp=Train[(Train[:,0]==SubjectID[i]) & (Train[:,1]==VideoID[j])]\n",
    "        Xtrain[TrainNumber]=np.concatenate([(A-len(Xtemp[:,4]))*[0], Xtemp[:,4]],axis=0)\n",
    "        ytrain[TrainNumber]= Xtemp[:,14].mean()\n",
    "        TrainNumber+=1\n",
    "        \n",
    "Xtest  = {}\n",
    "ytest  = {}\n",
    "TestNumber  = 0\n",
    "VideoID = list(set(Test[:,1]))\n",
    "for i in range(len(VideoID)):\n",
    "    Xtemp=Test[Test[:,1]==VideoID[i]]\n",
    "    Xtest[TestNumber]=np.concatenate([(A-len(Xtemp[:,4]))*[0], Xtemp[:,4]],axis=0)\n",
    "    ytest[TestNumber]= Xtemp[:,14].mean()\n",
    "    TestNumber+=1  "
   ]
  },
  {
   "cell_type": "markdown",
   "metadata": {},
   "source": [
    "### LSTM"
   ]
  },
  {
   "cell_type": "code",
   "execution_count": 9,
   "metadata": {},
   "outputs": [
    {
     "name": "stderr",
     "output_type": "stream",
     "text": [
      "Using TensorFlow backend.\n"
     ]
    },
    {
     "name": "stdout",
     "output_type": "stream",
     "text": [
      "_________________________________________________________________\n",
      "Layer (type)                 Output Shape              Param #   \n",
      "=================================================================\n",
      "lstm_1 (LSTM)                (None, 30)                3840      \n",
      "_________________________________________________________________\n",
      "dense_1 (Dense)              (None, 1)                 31        \n",
      "=================================================================\n",
      "Total params: 3,871\n",
      "Trainable params: 3,871\n",
      "Non-trainable params: 0\n",
      "_________________________________________________________________\n",
      "None\n"
     ]
    }
   ],
   "source": [
    "from random import random\n",
    "from random import randint\n",
    "from numpy import array\n",
    "from numpy import zeros\n",
    "from keras.models import Sequential\n",
    "from keras.layers import LSTM\n",
    "from keras.layers import Dense\n",
    "from keras.layers import Dropout\n",
    "from keras.layers import Flatten\n",
    "from keras.layers import TimeDistributed\n",
    "# configure problem\n",
    "length = A # length of the signal\n",
    "NS = 1 #Number of the signal\n",
    "model = Sequential()\n",
    "model.add(LSTM(30, input_shape=(length, NS), dropout=0.3))\n",
    "#model.add(LSTM(30, input_shape=(length, NS),return_sequences=True, dropout=0.3))\n",
    "#model.add(LSTM(20, dropout=0.3))\n",
    "\n",
    "model.add(Dense(1, activation='sigmoid'))\n",
    "model.compile(loss='binary_crossentropy', optimizer='adam', metrics=['acc'])\n",
    "\n",
    "print(model.summary())"
   ]
  },
  {
   "cell_type": "code",
   "execution_count": 10,
   "metadata": {},
   "outputs": [],
   "source": [
    "for i in range(len(Xtrain)):\n",
    "    X = np.array(Xtrain[i]).reshape(1,A,1)\n",
    "    y = np.array(int(ytrain[i])).reshape(1,1)\n",
    "    history = model.fit(X, y, epochs=1, verbose = 0)\n",
    "    #odel.reset_states()"
   ]
  },
  {
   "cell_type": "code",
   "execution_count": 11,
   "metadata": {},
   "outputs": [
    {
     "name": "stdout",
     "output_type": "stream",
     "text": [
      "Probability: 0.292636, acc: 0.000000\n",
      "Probability: 0.223326, acc: 100.000000\n",
      "Probability: 0.263397, acc: 100.000000\n",
      "Probability: 0.387435, acc: 0.000000\n",
      "Probability: 0.216849, acc: 0.000000\n",
      "Probability: 0.727067, acc: 100.000000\n",
      "Probability: 0.221864, acc: 100.000000\n",
      "Probability: 0.718567, acc: 0.000000\n",
      "Probability: 0.699065, acc: 100.000000\n",
      "Probability: 0.224982, acc: 100.000000\n",
      "Accuracy: 60.000000 %\n"
     ]
    }
   ],
   "source": [
    "# evaluate model\n",
    "correct = 0\n",
    "for i in range(len(Xtest)):\n",
    "    X = np.array(Xtest[i]).reshape(1,A,1)\n",
    "    y = np.array(int(ytest[i])).reshape(1,1)\n",
    "    loss, acc = model.evaluate(X, y, verbose=0)\n",
    "    print('Probability: %f, acc: %f' % (model.predict(X), acc*100))\n",
    "    yhat = 1 if model.predict(X)>=0.5 else 0\n",
    "    if yhat == y:\n",
    "        correct += 1\n",
    "print('Accuracy: %f %%' % ((correct/len(Xtest))*100.0))"
   ]
  },
  {
   "cell_type": "markdown",
   "metadata": {},
   "source": [
    " ### ConvNet-LSTM"
   ]
  },
  {
   "cell_type": "code",
   "execution_count": 61,
   "metadata": {},
   "outputs": [
    {
     "name": "stdout",
     "output_type": "stream",
     "text": [
      "_________________________________________________________________\n",
      "Layer (type)                 Output Shape              Param #   \n",
      "=================================================================\n",
      "time_distributed_73 (TimeDis (None, 1, 144, 20)        2020      \n",
      "_________________________________________________________________\n",
      "time_distributed_74 (TimeDis (None, 1, 28, 20)         0         \n",
      "_________________________________________________________________\n",
      "time_distributed_75 (TimeDis (None, 1, 560)            0         \n",
      "_________________________________________________________________\n",
      "lstm_23 (LSTM)               (None, 1, 100)            264400    \n",
      "_________________________________________________________________\n",
      "lstm_24 (LSTM)               (None, 10)                4440      \n",
      "_________________________________________________________________\n",
      "dense_18 (Dense)             (None, 1)                 11        \n",
      "=================================================================\n",
      "Total params: 270,871\n",
      "Trainable params: 270,871\n",
      "Non-trainable params: 0\n",
      "_________________________________________________________________\n",
      "None\n"
     ]
    }
   ],
   "source": [
    "# define the model\n",
    "from keras.layers.convolutional import Conv1D \n",
    "from keras.layers.convolutional import MaxPooling1D \n",
    "from random import random\n",
    "from random import randint\n",
    "from numpy import array\n",
    "from numpy import zeros\n",
    "from keras.models import Sequential\n",
    "from keras.layers import LSTM\n",
    "from keras.layers import Dense\n",
    "from keras.layers import Flatten\n",
    "from keras.layers import TimeDistributed\n",
    "from keras.layers import Bidirectional\n",
    "\n",
    "model2 = Sequential()\n",
    "model2.add(TimeDistributed(Conv1D(filters=20, kernel_size=100, padding='same', activation='relu'), input_shape=(1,A,1)))\n",
    "model2.add(TimeDistributed(MaxPooling1D(pool_size=5)))\n",
    "#model2.add(TimeDistributed(Conv1D(filters=100, kernel_size=100, padding='same', activation='relu')))\n",
    "#model2.add(TimeDistributed(MaxPooling1D(pool_size=2)))\n",
    "model2.add(TimeDistributed(Flatten()))\n",
    "#model2.add(LSTM(50, return_sequences=True, dropout=0.3))\n",
    "model2.add(LSTM(100, return_sequences=True, dropout=0.3))\n",
    "model2.add(LSTM(10, dropout=0.3))\n",
    "model2.add(Dense(1, activation='sigmoid'))\n",
    "model2.compile(loss='binary_crossentropy', optimizer='adam', metrics=['acc'])\n",
    "print(model2.summary())"
   ]
  },
  {
   "cell_type": "code",
   "execution_count": 62,
   "metadata": {},
   "outputs": [],
   "source": [
    "for i in range(len(Xtrain)):\n",
    "    X = np.array(Xtrain[i]).reshape(1,1,A,1)\n",
    "    y = np.array(int(ytrain[i])).reshape(1,1)\n",
    "    model2.fit(X, y, epochs=1, batch_size=1, verbose = 0)\n",
    "    model2.reset_states()"
   ]
  },
  {
   "cell_type": "code",
   "execution_count": 63,
   "metadata": {},
   "outputs": [
    {
     "name": "stdout",
     "output_type": "stream",
     "text": [
      "loss: 0.752319, acc: 0.000000\n",
      "loss: 0.681911, acc: 100.000000\n",
      "loss: 0.672475, acc: 100.000000\n",
      "loss: 0.742083, acc: 0.000000\n",
      "loss: 0.755583, acc: 0.000000\n",
      "loss: 0.787307, acc: 0.000000\n",
      "loss: 0.615023, acc: 100.000000\n",
      "loss: 0.645338, acc: 100.000000\n",
      "loss: 0.733484, acc: 0.000000\n",
      "loss: 0.649614, acc: 100.000000\n",
      "Accuracy: 50.000000 %\n"
     ]
    }
   ],
   "source": [
    "correct = 0\n",
    "for i in range(len(Xtest)):\n",
    "    X = np.array(Xtest[i]).reshape(1,1,A,1)\n",
    "    y = np.array(int(ytest[i])).reshape(1,1)\n",
    "    loss, acc = model2.evaluate(X, y, verbose=0)\n",
    "    print('loss: %f, acc: %f' % (loss, acc*100))\n",
    "    yhat = 1 if model2.predict(X)>=0.5 else 0\n",
    "    if yhat == y:\n",
    "        correct += 1\n",
    "print('Accuracy: %f %%' % ((correct/len(Xtest))*100.0))"
   ]
  },
  {
   "cell_type": "markdown",
   "metadata": {},
   "source": [
    "### Bidirectional LSTM"
   ]
  },
  {
   "cell_type": "code",
   "execution_count": 158,
   "metadata": {},
   "outputs": [
    {
     "name": "stdout",
     "output_type": "stream",
     "text": [
      "_________________________________________________________________\n",
      "Layer (type)                 Output Shape              Param #   \n",
      "=================================================================\n",
      "bidirectional_27 (Bidirectio (None, 144, 20)           960       \n",
      "_________________________________________________________________\n",
      "lstm_55 (LSTM)               (None, 20)                3280      \n",
      "_________________________________________________________________\n",
      "dense_33 (Dense)             (None, 1)                 21        \n",
      "=================================================================\n",
      "Total params: 4,261\n",
      "Trainable params: 4,261\n",
      "Non-trainable params: 0\n",
      "_________________________________________________________________\n",
      "None\n"
     ]
    }
   ],
   "source": [
    "# define the model\n",
    "from keras.layers.convolutional import Conv1D \n",
    "from keras.layers.convolutional import MaxPooling1D \n",
    "from random import random\n",
    "from random import randint\n",
    "from numpy import array\n",
    "from numpy import zeros\n",
    "from keras.models import Sequential\n",
    "from keras.layers import LSTM\n",
    "from keras.layers import Dense\n",
    "from keras.layers import Flatten\n",
    "from keras.layers import TimeDistributed\n",
    "from keras.layers import Bidirectional\n",
    "\n",
    "model3 = Sequential()\n",
    "model3.add(Bidirectional(LSTM(10, return_sequences=True), input_shape=(A, 1)))\n",
    "model3.add(LSTM(20, dropout=0.3))\n",
    "model3.add(Dense(1, activation='sigmoid'))\n",
    "model3.compile(loss='binary_crossentropy', optimizer='adam', metrics=['acc'])\n",
    "print(model3.summary())\n"
   ]
  },
  {
   "cell_type": "code",
   "execution_count": 159,
   "metadata": {},
   "outputs": [],
   "source": [
    "for i in range(len(Xtrain)):\n",
    "    X = np.array(Xtrain[i]).reshape(1, A, 1)\n",
    "    y = np.array(int(ytrain[i])).reshape(1,1)\n",
    "    model3.fit(X, y, epochs=1, verbose = 0)\n",
    "    model3.reset_states()"
   ]
  },
  {
   "cell_type": "code",
   "execution_count": 161,
   "metadata": {},
   "outputs": [
    {
     "name": "stdout",
     "output_type": "stream",
     "text": [
      "loss: 0.618221, acc: 100.000000\n",
      "loss: 0.718358, acc: 0.000000\n",
      "loss: 0.746382, acc: 0.000000\n",
      "loss: 0.630942, acc: 100.000000\n",
      "loss: 0.643480, acc: 100.000000\n",
      "loss: 0.677467, acc: 100.000000\n",
      "loss: 0.745729, acc: 0.000000\n",
      "loss: 0.706821, acc: 0.000000\n",
      "loss: 0.685753, acc: 100.000000\n",
      "loss: 0.750188, acc: 0.000000\n",
      "Accuracy: 50.000000 %\n"
     ]
    }
   ],
   "source": [
    "correct = 0\n",
    "for i in range(len(Xtest)):\n",
    "    X = np.array(Xtest[i]).reshape(1,A,1)\n",
    "    y = np.array(int(ytest[i])).reshape(1,1)\n",
    "    loss, acc = model3.evaluate(X, y, verbose=0)\n",
    "    print('loss: %f, acc: %f' % (loss, acc*100))\n",
    "    yhat = 1 if model3.predict(X)>=0.5 else 0\n",
    "    if yhat == y:\n",
    "        correct += 1\n",
    "print('Accuracy: %f %%' % ((correct/len(Xtest))*100.0))"
   ]
  },
  {
   "cell_type": "markdown",
   "metadata": {},
   "source": [
    "#### Multivariate LSTM \n",
    "To consider all the signals, first we need to normalize features (between 0-1): "
   ]
  },
  {
   "cell_type": "code",
   "execution_count": 547,
   "metadata": {},
   "outputs": [],
   "source": [
    "from sklearn.preprocessing import MinMaxScaler\n",
    "from keras.layers.convolutional import Conv1D \n",
    "from keras.layers.convolutional import MaxPooling1D \n",
    "from random import random\n",
    "from random import randint\n",
    "from numpy import array\n",
    "from numpy import zeros\n",
    "from keras.models import Sequential\n",
    "from keras.layers import LSTM\n",
    "from keras.layers import Dense\n",
    "from keras.layers import Flatten\n",
    "from keras.layers import TimeDistributed\n",
    "from keras.layers import Bidirectional\n",
    "def NormSignal(S, I):\n",
    "    # normalize features\n",
    "    S=S.reshape(-1, 1)\n",
    "    if I not in [0, 1, 13, 14]:\n",
    "        scaler = MinMaxScaler(feature_range=(0, 1))\n",
    "        scaled = scaler.fit_transform(S)\n",
    "        scaled = scaled\n",
    "    else:\n",
    "        scaled = S\n",
    "    return scaled.reshape(-1).tolist()"
   ]
  },
  {
   "cell_type": "code",
   "execution_count": 548,
   "metadata": {},
   "outputs": [],
   "source": [
    "from pandas import read_csv\n",
    "import matplotlib.pyplot as plt\n",
    "from matplotlib import pyplot as plt\n",
    "import numpy as np\n",
    "np.random.seed = 7\n",
    "dataset = read_csv('EEGdata.csv', engine = 'python', skipfooter=2)\n",
    "dataset = dataset.values.astype('float32')\n",
    "NormDataG = [NormSignal(dataset[:,i], i) for i in range(0,15)]\n",
    "NormDataG = np.array(NormDataG)\n",
    "NormDataG = NormDataG.T"
   ]
  },
  {
   "cell_type": "markdown",
   "metadata": {},
   "source": [
    " ##### The input shape will be 144 time steps with 11 features, 100 training sets"
   ]
  },
  {
   "cell_type": "code",
   "execution_count": 549,
   "metadata": {},
   "outputs": [
    {
     "name": "stdout",
     "output_type": "stream",
     "text": [
      "144\n",
      "_________________________________________________________________\n",
      "Layer (type)                 Output Shape              Param #   \n",
      "=================================================================\n",
      "lstm_71 (LSTM)               (None, 144, 10)           880       \n",
      "_________________________________________________________________\n",
      "lstm_72 (LSTM)               (None, 20)                2480      \n",
      "_________________________________________________________________\n",
      "dense_42 (Dense)             (None, 1)                 21        \n",
      "=================================================================\n",
      "Total params: 3,381\n",
      "Trainable params: 3,381\n",
      "Non-trainable params: 0\n",
      "_________________________________________________________________\n",
      "None\n"
     ]
    }
   ],
   "source": [
    "VideoID = list(set(NormDataG[:,1]))\n",
    "SubjectID = list(set(NormDataG[:,0])) \n",
    "\n",
    "import numpy as np\n",
    "A=0 # length of signal\n",
    "for i in range(len(SubjectID)):\n",
    "    for j in range(len(VideoID)):\n",
    "        Xtemp=NormDataG[(NormDataG[:,0]==SubjectID[i]) & (NormDataG[:,1]==VideoID[j])]\n",
    "        A = max(len(Xtemp[:,14]),A)\n",
    "print(A)\n",
    "# configure problem\n",
    "length = A # length of the signal\n",
    "NS = 11 #Number of the signal\n",
    "model4 = Sequential()\n",
    "model4.add(LSTM(10, return_sequences=True, input_shape=(length, NS), dropout=0.3))\n",
    "model4.add(LSTM(20, dropout=0.3))\n",
    "model4.add(Dense(1, activation='sigmoid'))\n",
    "model4.compile(loss='binary_crossentropy', optimizer='adam', metrics=['acc'])\n",
    "print(model4.summary())"
   ]
  },
  {
   "cell_type": "code",
   "execution_count": 550,
   "metadata": {},
   "outputs": [],
   "source": [
    "Leave_One_Out = 1\n",
    "Train =  NormDataG [(NormDataG[:,0]!=Leave_One_Out)]\n",
    "Test =  NormDataG [(NormDataG[:,0]==Leave_One_Out)]"
   ]
  },
  {
   "cell_type": "code",
   "execution_count": 551,
   "metadata": {},
   "outputs": [
    {
     "name": "stdout",
     "output_type": "stream",
     "text": [
      "(90, 144, 11) (10, 144, 11) (90, 1) (10, 1)\n"
     ]
    }
   ],
   "source": [
    "# Manual Padding to fixed size:\n",
    "k=0\n",
    "VideoID = list(set(Train[:,1]))\n",
    "SubjectID = list(set(Train[:,0])) \n",
    "for i in range(len(SubjectID)):\n",
    "    for j in range(len(VideoID)):\n",
    "        Xtemp=Train[(Train[:,0]==SubjectID[i]) & (Train[:,1]==VideoID[j])]\n",
    "        z = np.zeros((A-Xtemp.shape[0], 11), dtype=Train.dtype)\n",
    "        Xt=np.concatenate((Xtemp[:,2:13], z), axis=0)\n",
    "        Xt = Xt.reshape(1, A, -1)\n",
    "        yt= Xtemp[:,14].mean().reshape(1, -1)\n",
    "        if k!=0:\n",
    "            Xtrain = np.vstack((Xtrain,Xt))\n",
    "            ytrain = np.vstack((ytrain,yt))\n",
    "        else:\n",
    "            Xtrain=Xt\n",
    "            ytrain=yt\n",
    "            k=1\n",
    "\n",
    "k=0\n",
    "VideoID = list(set(Test[:,1]))\n",
    "for i in range(len(VideoID)):\n",
    "    Xtemp=Test[Test[:,1]==VideoID[i]]\n",
    "    z = np.zeros((A-Xtemp.shape[0], 11), dtype=Train.dtype)\n",
    "    Xt=np.concatenate((Xtemp[:,2:13], z), axis=0)\n",
    "    Xt = Xt.reshape(1, A, -1)\n",
    "    yt= Xtemp[:,14].mean().reshape(1, -1)\n",
    "\n",
    "    if k!=0:\n",
    "        Xtest = np.vstack((Xtest,Xt))\n",
    "        ytest = np.vstack((ytest,yt))\n",
    "    else:\n",
    "        Xtest=Xt\n",
    "        ytest=yt\n",
    "        k=1\n",
    "print(Xtrain.shape, Xtest.shape, ytrain.shape, ytest.shape)"
   ]
  },
  {
   "cell_type": "code",
   "execution_count": 558,
   "metadata": {},
   "outputs": [],
   "source": [
    "history = model4.fit(Xtrain, ytrain, epochs=100, batch_size=30, validation_data=(Xtest, ytest), verbose=0)"
   ]
  },
  {
   "cell_type": "code",
   "execution_count": 559,
   "metadata": {},
   "outputs": [
    {
     "data": {
      "image/png": "[encoded data removed]",
      "text/plain": [
       "<matplotlib.figure.Figure at 0x23bab79ce80>"
      ]
     },
     "metadata": {},
     "output_type": "display_data"
    }
   ],
   "source": [
    "# plot history\n",
    "plt.plot(history.history['loss'], label='train')\n",
    "plt.plot(history.history['val_loss'], label='test')\n",
    "plt.legend()\n",
    "plt.show()"
   ]
  },
  {
   "cell_type": "code",
   "execution_count": 560,
   "metadata": {},
   "outputs": [
    {
     "name": "stdout",
     "output_type": "stream",
     "text": [
      "Probability: 0.421441, acc: 100.000000\n",
      "Probability: 0.852672, acc: 0.000000\n",
      "Probability: 0.587522, acc: 100.000000\n",
      "Probability: 0.647322, acc: 100.000000\n",
      "Probability: 0.321462, acc: 100.000000\n",
      "Probability: 0.893841, acc: 0.000000\n",
      "Probability: 0.788899, acc: 0.000000\n",
      "Probability: 0.764975, acc: 0.000000\n",
      "Probability: 0.726335, acc: 0.000000\n",
      "Probability: 0.479465, acc: 100.000000\n",
      "Accuracy: 50.000000 %\n"
     ]
    }
   ],
   "source": [
    "correct = 0\n",
    "for i in range(len(Xtest)):\n",
    "    X = np.array(Xtest[i]).reshape(1,A,11)\n",
    "    y = np.array(ytest[i]).reshape(1,1)\n",
    "    loss, acc = model4.evaluate(X, y, verbose=0)\n",
    "    print('Probability: %f, acc: %f' % (loss, acc*100))\n",
    "    yhat = 1 if model4.predict(X)>=0.5 else 0\n",
    "    if yhat == y:\n",
    "        correct += 1\n",
    "print('Accuracy: %f %%' % ((correct/len(Xtest))*100.0))"
   ]
  },
  {
   "cell_type": "markdown",
   "metadata": {},
   "source": [
    "## Bidirectional Multovariate LSTM"
   ]
  },
  {
   "cell_type": "code",
   "execution_count": 410,
   "metadata": {},
   "outputs": [
    {
     "name": "stdout",
     "output_type": "stream",
     "text": [
      "_________________________________________________________________\n",
      "Layer (type)                 Output Shape              Param #   \n",
      "=================================================================\n",
      "bidirectional_3 (Bidirection (None, 144, 100)          24800     \n",
      "_________________________________________________________________\n",
      "lstm_34 (LSTM)               (None, 20)                9680      \n",
      "_________________________________________________________________\n",
      "dense_24 (Dense)             (None, 1)                 21        \n",
      "=================================================================\n",
      "Total params: 34,501\n",
      "Trainable params: 34,501\n",
      "Non-trainable params: 0\n",
      "_________________________________________________________________\n",
      "None\n"
     ]
    }
   ],
   "source": [
    "# define the model\n",
    "from keras.layers.convolutional import Conv1D \n",
    "from keras.layers.convolutional import MaxPooling1D \n",
    "from random import random\n",
    "from random import randint\n",
    "from numpy import array\n",
    "from numpy import zeros\n",
    "from keras.models import Sequential\n",
    "from keras.layers import LSTM\n",
    "from keras.layers import Dense\n",
    "from keras.layers import Flatten\n",
    "from keras.layers import TimeDistributed\n",
    "from keras.layers import Bidirectional\n",
    "\n",
    "model5 = Sequential()\n",
    "model5.add(Bidirectional(LSTM(50, return_sequences=True), input_shape=(A, 11)))\n",
    "model5.add(LSTM(20, dropout=0.3))\n",
    "model5.add(Dense(1, activation='sigmoid'))\n",
    "model5.compile(loss='binary_crossentropy', optimizer='adam', metrics=['acc'])\n",
    "print(model5.summary())"
   ]
  },
  {
   "cell_type": "code",
   "execution_count": 411,
   "metadata": {},
   "outputs": [],
   "source": [
    "history = model5.fit(Xtrain, ytrain, epochs=200, batch_size=30, validation_data=(Xtest, ytest), verbose=0)"
   ]
  },
  {
   "cell_type": "code",
   "execution_count": 412,
   "metadata": {},
   "outputs": [
    {
     "data": {
      "image/png": "[encoded data removed]",
      "text/plain": [
       "<matplotlib.figure.Figure at 0x23b136f1ef0>"
      ]
     },
     "metadata": {},
     "output_type": "display_data"
    }
   ],
   "source": [
    "# plot history\n",
    "plt.plot(history.history['loss'], label='train')\n",
    "plt.plot(history.history['val_loss'], label='test')\n",
    "plt.legend()\n",
    "plt.show()"
   ]
  },
  {
   "cell_type": "code",
   "execution_count": 413,
   "metadata": {},
   "outputs": [
    {
     "name": "stdout",
     "output_type": "stream",
     "text": [
      "Probability: 0.611465, acc: 100.000000\n",
      "Probability: 1.161880, acc: 0.000000\n",
      "Probability: 1.640485, acc: 0.000000\n",
      "Probability: 0.170981, acc: 100.000000\n",
      "Probability: 0.475572, acc: 100.000000\n",
      "Probability: 0.612057, acc: 100.000000\n",
      "Probability: 1.756586, acc: 0.000000\n",
      "Probability: 1.627364, acc: 0.000000\n",
      "Probability: 0.992226, acc: 0.000000\n",
      "Probability: 0.151533, acc: 100.000000\n",
      "Accuracy: 50.000000 %\n"
     ]
    }
   ],
   "source": [
    "correct = 0\n",
    "for i in range(len(Xtest)):\n",
    "    X = np.array(Xtest[i]).reshape(1,A,11)\n",
    "    y = np.array(ytest[i]).reshape(1,1)\n",
    "    loss, acc = model4.evaluate(X, y, verbose=0)\n",
    "    print('Probability: %f, acc: %f' % (loss, acc*100))\n",
    "    yhat = 1 if model4.predict(X)>=0.5 else 0\n",
    "    if yhat == y:\n",
    "        correct += 1\n",
    "print('Accuracy: %f %%' % ((correct/len(Xtest))*100.0))"
   ]
  },
  {
   "cell_type": "markdown",
   "metadata": {},
   "source": [
    "# CNN LSTM"
   ]
  },
  {
   "cell_type": "code",
   "execution_count": 698,
   "metadata": {},
   "outputs": [
    {
     "name": "stdout",
     "output_type": "stream",
     "text": [
      "_________________________________________________________________\n",
      "Layer (type)                 Output Shape              Param #   \n",
      "=================================================================\n",
      "time_distributed_135 (TimeDi (None, None, 140, 7, 5)   130       \n",
      "_________________________________________________________________\n",
      "dropout_67 (Dropout)         (None, None, 140, 7, 5)   0         \n",
      "_________________________________________________________________\n",
      "time_distributed_136 (TimeDi (None, None, 70, 3, 5)    0         \n",
      "_________________________________________________________________\n",
      "time_distributed_137 (TimeDi (None, None, 1050)        0         \n",
      "_________________________________________________________________\n",
      "lstm_105 (LSTM)              (None, None, 100)         460400    \n",
      "_________________________________________________________________\n",
      "dropout_68 (Dropout)         (None, None, 100)         0         \n",
      "_________________________________________________________________\n",
      "lstm_106 (LSTM)              (None, None, 100)         80400     \n",
      "_________________________________________________________________\n",
      "dropout_69 (Dropout)         (None, None, 100)         0         \n",
      "_________________________________________________________________\n",
      "lstm_107 (LSTM)              (None, 100)               80400     \n",
      "_________________________________________________________________\n",
      "dropout_70 (Dropout)         (None, 100)               0         \n",
      "_________________________________________________________________\n",
      "dense_59 (Dense)             (None, 1)                 101       \n",
      "=================================================================\n",
      "Total params: 621,431\n",
      "Trainable params: 621,431\n",
      "Non-trainable params: 0\n",
      "_________________________________________________________________\n",
      "None\n"
     ]
    }
   ],
   "source": [
    "# define the model\n",
    "from keras.layers.convolutional import Conv2D \n",
    "from keras.layers.convolutional import MaxPooling2D \n",
    "from random import random\n",
    "from random import randint\n",
    "from numpy import array\n",
    "from numpy import zeros\n",
    "from keras.models import Sequential\n",
    "from keras.layers import LSTM\n",
    "from keras.layers import Dense\n",
    "from keras.layers import Flatten\n",
    "from keras.layers import TimeDistributed\n",
    "from keras.layers import Bidirectional\n",
    "from keras.layers import Dropout\n",
    "\n",
    "model6 = Sequential()\n",
    "model6.add(TimeDistributed(Conv2D(5, (5,5), activation='relu'),\n",
    "input_shape=(None,A,11,1)))\n",
    "model6.add(Dropout(0.9))\n",
    "model6.add(TimeDistributed(MaxPooling2D(pool_size=(2, 2))))\n",
    "model6.add(TimeDistributed(Flatten()))\n",
    "model6.add(LSTM(100, return_sequences=True))\n",
    "model6.add(Dropout(0.9))\n",
    "model6.add(LSTM(100, return_sequences=True))\n",
    "model6.add(Dropout(0.9))\n",
    "model6.add(LSTM(100))\n",
    "model6.add(Dropout(0.9))\n",
    "model6.add(Dense(1, activation='sigmoid'))\n",
    "model6.compile(loss='binary_crossentropy', optimizer='adam', metrics=['acc'])\n",
    "print(model6.summary())\n",
    "\n"
   ]
  },
  {
   "cell_type": "code",
   "execution_count": 699,
   "metadata": {},
   "outputs": [],
   "source": [
    "Xtrain = Xtrain.reshape(-1, 1, 144, 11, 1)\n",
    "Xtest = Xtest.reshape(-1, 1, 144, 11, 1)"
   ]
  },
  {
   "cell_type": "code",
   "execution_count": null,
   "metadata": {},
   "outputs": [],
   "source": [
    "np.random.seed = 3\n",
    "history = model6.fit(Xtrain, ytrain, epochs=300, batch_size=20, validation_data=(Xtest, ytest), verbose=0)"
   ]
  },
  {
   "cell_type": "code",
   "execution_count": null,
   "metadata": {
    "scrolled": false
   },
   "outputs": [],
   "source": [
    "# plot history\n",
    "plt.plot(history.history['loss'], label='train')\n",
    "plt.plot(history.history['val_loss'], label='test')\n",
    "plt.legend()\n",
    "plt.show()"
   ]
  },
  {
   "cell_type": "code",
   "execution_count": null,
   "metadata": {},
   "outputs": [],
   "source": [
    "correct = 0\n",
    "for i in range(len(Xtest)):\n",
    "    X = np.array(Xtest[i]).reshape(-1, 1, 144, 11, 1)\n",
    "    y = np.array(ytest[i]).reshape(1,1)\n",
    "    loss, acc = model6.evaluate(X, y, verbose=0)\n",
    "    print('Probability: %f, acc: %f' % (loss, acc*100))\n",
    "    yhat = 1 if model6.predict(X)>=0.5 else 0\n",
    "    if yhat == y:\n",
    "        correct += 1\n",
    "print('Accuracy: %f %%' % ((correct/len(Xtest))*100.0))"
   ]
  },
  {
   "cell_type": "code",
   "execution_count": null,
   "metadata": {},
   "outputs": [],
   "source": []
  }
 ],
 "metadata": {
  "kernelspec": {
   "display_name": "Python 3",
   "language": "python",
   "name": "python3"
  },
  "language_info": {
   "codemirror_mode": {
    "name": "ipython",
    "version": 3
   },
   "file_extension": ".py",
   "mimetype": "text/x-python",
   "name": "python",
   "nbconvert_exporter": "python",
   "pygments_lexer": "ipython3",
   "version": "3.5.4"
  }
 },
 "nbformat": 4,
 "nbformat_minor": 2
}
