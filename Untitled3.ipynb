{
 "cells": [
  {
   "cell_type": "markdown",
   "metadata": {},
   "source": [
    "# Diagnose and Tune LSTMs"
   ]
  },
  {
   "cell_type": "markdown",
   "metadata": {},
   "source": [
    "#### How Unstable Are Neural Networks?\n",
    "- Evaluate the same model on the same data many times (30, 100, or thousands) and only vary the seed for the random number generator. Then review the mean and standard deviation of the skill scores produced.\n",
    "\n",
    "    model = fit(train.X, train.y)\n",
    "    predictions = model.predict(test.X)\n",
    "    skill = compare(test.y, predictions)\n",
    "    scores.append(skill)"
   ]
  },
  {
   "cell_type": "markdown",
   "metadata": {},
   "source": [
    "#### Underfitting and Overfitting"
   ]
  },
  {
   "cell_type": "markdown",
   "metadata": {},
   "source": [
    "You can learn a lot about the behavior of your model by reviewing its performance over time.\n",
    "\n",
    "    history = model.fit(X, Y, epochs=100, validation_split=0.33)\n",
    "    \n",
    "    history = model.fit(X, Y, epochs=100, validation_data=(valX, valY))\n",
    "    \n",
    "    \n",
    "    from matplotlib import pyplot\n",
    "    ...\n",
    "    history = model.fit(X, Y, epochs=100, validation_data=(valX, valY))\n",
    "    pyplot.plot(history.history['loss'])\n",
    "    pyplot.plot(history.history['val_loss'])\n",
    "    pyplot.title('model train vs validation loss')\n",
    "    pyplot.ylabel('loss')\n",
    "    pyplot.xlabel('epoch')\n",
    "    pyplot.legend(['train', 'validation'], loc='upper right')\n",
    "    pyplot.show()"
   ]
  },
  {
   "cell_type": "markdown",
   "metadata": {},
   "source": [
    "## Regularization\n",
    "- dropout:\n",
    "    ##### model.add(LSTM(..., dropout=0.4))\n",
    "- Weight regularizatrion:\n",
    "   - bias regularizer: regularization on the bias weights.\n",
    "   - kernel regularizer: regularization on the input weights.\n",
    "        ##### model.add(LSTM(..., kernel_regularizer=L1L2(0.01, 0.01)))\n",
    "   - recurrent regularizer: regularization on the recurrent weights.\n"
   ]
  },
  {
   "cell_type": "markdown",
   "metadata": {},
   "source": [
    "## Early Stopping\n",
    "    from keras.callbacks import EarlyStopping\n",
    "    es = EarlyStopping(monitor='val_loss', min_delta=100)\n",
    "    model.fit(..., callbacks=[es])\n"
   ]
  },
  {
   "cell_type": "markdown",
   "metadata": {},
   "source": [
    "### Save LSTM Models to File\n",
    "\n",
    "1. Save model to a single file.\n",
    "    sudo pip install h5py\n",
    "    define model\n",
    "    model = Sequential()\n",
    "    model.add(LSTM(...))\n",
    "    ##### compile model\n",
    "    model.compile(...)\n",
    "    ##### fit model\n",
    "    model.fit(...)\n",
    "    ##### save model to single file\n",
    "    model.save('lstm_model.h5')\n",
    "    \n",
    "    from keras.models import load_model\n",
    "    ##### load model from single file\n",
    "    model = load_model('lstm_model.h5')\n",
    "    ##### make predictions\n",
    "    yhat = model.predict(X, verbose=0)\n",
    "    print(yhat)\n",
    "\n",
    "2. Save architecture and weights to separate files.\n",
    "\n",
    "    - Save Architecture:\n",
    "    ...\n",
    "    ##### convert model architecture to JSON format\n",
    "    architecture = model.to_json()\n",
    "    ##### save architecture to JSON file\n",
    "    with open('architecture.json', 'wt') as json_file:\n",
    "    json_file.write(architecture)\n",
    "    \n",
    "    \n",
    "    ##### load architecture from JSON File\n",
    "    json_file = open('architecture.json', 'rt')\n",
    "    architecture = json_file.read()\n",
    "    json_file.close()\n",
    "    ##### create model from architecture\n",
    "    model = model_from_json(architecture)\n",
    "    \n",
    "    - Save Weights:\n",
    "    ##### save weights to hdf5 file\n",
    "    model.save_weights('weights.h5')\n",
    "    \n",
    "    model = ...\n",
    "    ##### load weights from hdf5 file\n",
    "    model.load_weights('weights.h5')"
   ]
  },
  {
   "cell_type": "markdown",
   "metadata": {},
   "source": [
    "## Predicting:\n",
    "    yhat = model.predict(X)\n",
    "    yhat = model.predict_classes(X)\n",
    "    yhat = model.predict_proba(X)"
   ]
  },
  {
   "cell_type": "markdown",
   "metadata": {},
   "source": [
    "## LSTM Model Updating"
   ]
  },
  {
   "cell_type": "markdown",
   "metadata": {},
   "source": [
    "- The existing model is loaded and trained on additional epochs using only the new data."
   ]
  },
  {
   "cell_type": "code",
   "execution_count": null,
   "metadata": {},
   "outputs": [],
   "source": []
  }
 ],
 "metadata": {
  "kernelspec": {
   "display_name": "Python 3",
   "language": "python",
   "name": "python3"
  },
  "language_info": {
   "codemirror_mode": {
    "name": "ipython",
    "version": 3
   },
   "file_extension": ".py",
   "mimetype": "text/x-python",
   "name": "python",
   "nbconvert_exporter": "python",
   "pygments_lexer": "ipython3",
   "version": "3.5.4"
  }
 },
 "nbformat": 4,
 "nbformat_minor": 2
}
