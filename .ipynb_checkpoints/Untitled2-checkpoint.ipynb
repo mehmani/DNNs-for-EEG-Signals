{
 "cells": [
  {
   "cell_type": "markdown",
   "metadata": {},
   "source": [
    "## The Vanilla LSTM:\n",
    "1. Input laye\n",
    "2. Fully connected LSTM hidden layer\n",
    "3. Fully connected layer (output)"
   ]
  },
  {
   "cell_type": "markdown",
   "metadata": {},
   "source": [
    "Once we have generated sequences of random integers, we need to transform them into a format\n",
    "that is suitable for training an LSTM network:\n",
    "- Rescale the integer to the range [0,1]. Works for the regression aspect\n",
    "- Use a one hot encoding of the integer values\n",
    "We are interested in predicting the right number, not a number close to the expected value\n",
    "This means we would prefer to frame the problem as classiffication rather than regression, "
   ]
  },
  {
   "cell_type": "markdown",
   "metadata": {},
   "source": [
    "#### Reshape Sequences\n",
    "A sequence can then be reshaped into a three-dimensional matrix of samples, time steps, and features, or for a single sequence of 25 integers [1, 25, 100]."
   ]
  },
  {
   "cell_type": "code",
   "execution_count": 13,
   "metadata": {},
   "outputs": [],
   "source": [
    "# generate one example for an lstm\n",
    "def generate_example(length, n_features, out_index):\n",
    "    # generate sequence\n",
    "    sequence = generate_sequence(length, n_features)\n",
    "    # one hot encode\n",
    "    encoded = one_hot_encode(sequence, n_features)\n",
    "    # reshape sequence to be 3D\n",
    "    X = encoded.reshape((1, length, n_features))\n",
    "    # select output\n",
    "    y = encoded[out_index].reshape(1, n_features)\n",
    "    return X, y\n",
    "\n",
    "\n",
    "# generate a sequence of random numbers in [0, n_features)\n",
    "def generate_sequence(length, n_features):\n",
    "    return [randint(0, n_features-1) for _ in range(length)]\n",
    "\n",
    "\n",
    "# one hot encode sequence\n",
    "def one_hot_encode(sequence, n_features):\n",
    "    encoding = list()\n",
    "    for value in sequence:\n",
    "        vector = [0 for _ in range(n_features)]\n",
    "        vector[value] = 1\n",
    "        encoding.append(vector)\n",
    "    return array(encoding)\n",
    "\n",
    "# decode a one hot encoded string\n",
    "def one_hot_decode(encoded_seq):\n",
    "    return [argmax(vector) for vector in encoded_seq]\n",
    "\n"
   ]
  },
  {
   "cell_type": "code",
   "execution_count": 18,
   "metadata": {},
   "outputs": [
    {
     "name": "stdout",
     "output_type": "stream",
     "text": [
      "(1, 25, 100)\n",
      "(1, 100)\n"
     ]
    }
   ],
   "source": [
    "X, y = generate_example(25, 100, 2)\n",
    "print(X.shape)\n",
    "print(y.shape)"
   ]
  },
  {
   "cell_type": "code",
   "execution_count": 19,
   "metadata": {},
   "outputs": [
    {
     "name": "stdout",
     "output_type": "stream",
     "text": [
      "_________________________________________________________________\n",
      "Layer (type)                 Output Shape              Param #   \n",
      "=================================================================\n",
      "lstm_2 (LSTM)                (None, 25)                3600      \n",
      "_________________________________________________________________\n",
      "dense_2 (Dense)              (None, 10)                260       \n",
      "=================================================================\n",
      "Total params: 3,860\n",
      "Trainable params: 3,860\n",
      "Non-trainable params: 0\n",
      "_________________________________________________________________\n",
      "None\n"
     ]
    }
   ],
   "source": [
    "# define model\n",
    "length = 5\n",
    "n_features = 10\n",
    "out_index = 2\n",
    "model = Sequential()\n",
    "model.add(LSTM(25, input_shape=(length, n_features)))\n",
    "model.add(Dense(n_features, activation='softmax'))\n",
    "model.compile(loss='categorical_crossentropy', optimizer='adam', metrics=['acc'])\n",
    "print(model.summary())"
   ]
  },
  {
   "cell_type": "code",
   "execution_count": 20,
   "metadata": {},
   "outputs": [],
   "source": [
    "X, y = generate_example(length, n_features, out_index)"
   ]
  },
  {
   "cell_type": "code",
   "execution_count": 21,
   "metadata": {},
   "outputs": [
    {
     "data": {
      "text/plain": [
       "(1, 5, 10)"
      ]
     },
     "execution_count": 21,
     "metadata": {},
     "output_type": "execute_result"
    }
   ],
   "source": [
    "X.shape"
   ]
  },
  {
   "cell_type": "code",
   "execution_count": 30,
   "metadata": {},
   "outputs": [],
   "source": [
    "length = 5\n",
    "n_features = 10\n",
    "out_index = 2\n",
    "# fit the model one by one\n",
    "for i in range(10000):\n",
    "    X, y = generate_example(length, n_features, out_index)\n",
    "    model.fit(X, y, epochs=1, verbose=0)"
   ]
  },
  {
   "cell_type": "code",
   "execution_count": 31,
   "metadata": {},
   "outputs": [
    {
     "name": "stdout",
     "output_type": "stream",
     "text": [
      "Accuracy: 100.000000\n"
     ]
    }
   ],
   "source": [
    "# evaluate model\n",
    "correct = 0\n",
    "for i in range(100):\n",
    "    X, y = generate_example(length, n_features, out_index)\n",
    "    yhat = model.predict(X)\n",
    "    if one_hot_decode(yhat) == one_hot_decode(y):\n",
    "        correct += 1\n",
    "print('Accuracy: %f' % ((correct/100)*100.0))"
   ]
  },
  {
   "cell_type": "code",
   "execution_count": 32,
   "metadata": {},
   "outputs": [
    {
     "name": "stdout",
     "output_type": "stream",
     "text": [
      "Sequence: [[1, 8, 5, 7, 9]]\n",
      "Expected: [5]\n",
      "Predicted: [5]\n"
     ]
    }
   ],
   "source": [
    "# prediction on new data\n",
    "X, y = generate_example(length, n_features, out_index)\n",
    "yhat = model.predict(X)\n",
    "print('Sequence: %s' % [one_hot_decode(x) for x in X])\n",
    "print('Expected: %s' % one_hot_decode(y))\n",
    "print('Predicted: %s' % one_hot_decode(yhat))"
   ]
  },
  {
   "cell_type": "markdown",
   "metadata": {},
   "source": [
    "## LSTMs or Deep LSTMs\n",
    "\n",
    "1. INPUT > 2. LSTM > 3. LSTM > 4. DENSE > 5. OUTPUT\n",
    "\n",
    "\n",
    "\n",
    "- Each LSTMs memory cell requires a 3D input. When an LSTM processes one input sequence of time steps, each memory cell will output a single value for the whole sequence as a 2D array. \n",
    "\n",
    "- To stack LSTM layers, we need to change the con\f",
    "guration of the prior LSTM layer to output a 3D array as input for the subsequent layer. We can do this by setting the return sequences argument on the layer to True (defaults to False)."
   ]
  },
  {
   "cell_type": "code",
   "execution_count": 39,
   "metadata": {},
   "outputs": [
    {
     "name": "stdout",
     "output_type": "stream",
     "text": [
      "[[[ 0.01752379]\n",
      "  [ 0.0485787 ]\n",
      "  [ 0.08935235]]]\n"
     ]
    }
   ],
   "source": [
    "# Example of one output for whole sequence\n",
    "from keras.models import Sequential\n",
    "from keras.layers import LSTM\n",
    "from numpy import array\n",
    "# define model where LSTM is also output layer\n",
    "model2 = Sequential()\n",
    "model2.add(LSTM(1, input_shape=(3,1), return_sequences=True))\n",
    "model2.compile(optimizer='adam', loss='mse')\n",
    "# input time steps\n",
    "data = array([0.1, 0.2, 0.3]).reshape((1,3,1))\n",
    "# make and show prediction\n",
    "print(model2.predict(data))"
   ]
  },
  {
   "cell_type": "markdown",
   "metadata": {},
   "source": [
    "###### Damped Sine Wave Prediction Problem"
   ]
  },
  {
   "cell_type": "code",
   "execution_count": 3,
   "metadata": {},
   "outputs": [
    {
     "name": "stderr",
     "output_type": "stream",
     "text": [
      "Using TensorFlow backend.\n"
     ]
    }
   ],
   "source": [
    "from math import sin\n",
    "from math import pi\n",
    "from math import exp\n",
    "from random import randint\n",
    "from random import uniform\n",
    "from numpy import array\n",
    "from matplotlib import pyplot\n",
    "from keras.models import Sequential\n",
    "from keras.layers import LSTM\n",
    "from keras.layers import Dense\n",
    "# generate damped sine wave in [0,1]\n",
    "def generate_sequence(length, period, decay):\n",
    "    return [0.5 + 0.5 * sin(2 * pi * i / period) * exp(-decay * i) for i in range(length)]\n",
    "\n",
    "                                                                                  \n",
    "def generate_examples(length, n_patterns, output):\n",
    "    X, y = list(), list()\n",
    "    for _ in range(n_patterns):\n",
    "        p = randint(10, 20)\n",
    "        d = uniform(0.01, 0.1)\n",
    "        sequence = generate_sequence(length + output, p, d)\n",
    "        X.append(sequence[:-output])\n",
    "        y.append(sequence[-output:])\n",
    "    X = array(X).reshape(n_patterns, length, 1)\n",
    "    y = array(y).reshape(n_patterns, output)\n",
    "    return X, y\n",
    "# configure problem\n",
    "length = 50\n",
    "output = 5"
   ]
  },
  {
   "cell_type": "markdown",
   "metadata": {},
   "source": [
    "Running the example creates 5 damped sine wave sequences each with 20 time steps. An additional 5 time steps are generated at the end of the sequence that will be held back as test data. We will scale this to 50 time steps for the actual problem. (the last n time steps of each sequence will be used as the output sequence to be predicted.)"
   ]
  },
  {
   "cell_type": "code",
   "execution_count": 4,
   "metadata": {},
   "outputs": [
    {
     "data": {
      "image/png": "[encoded data removed]",
      "text/plain": [
       "<matplotlib.figure.Figure at 0x1d3bc11c438>"
      ]
     },
     "metadata": {},
     "output_type": "display_data"
    }
   ],
   "source": [
    "from matplotlib import pyplot\n",
    "X, y = generate_examples(20, 5, 5)\n",
    "for i in range(len(X)):\n",
    "    pyplot.plot([x for x in X[i, :, 0]], '-o')\n",
    "pyplot.show()"
   ]
  },
  {
   "cell_type": "markdown",
   "metadata": {},
   "source": [
    "##### NOTE:\n",
    "Technically this is a many-to-one sequence prediction problem. This may be confusing because we clearly intend to predict a sequence of output time steps. The reason that this is a many-to-one prediction problem is because the model will not predict the output time steps piecewise; the whole prediction will be produced at once."
   ]
  },
  {
   "cell_type": "markdown",
   "metadata": {},
   "source": [
    "### Model Creation\n",
    "\n",
    "We will define a Stacked LSTM with two hidden LSTM layers. Each LSTM layer will have 20 memory cells. The input dimension will be 1 feature with 20 time steps. The output dimension of the model will be a vector of 5 values that we will interpret to be 5 time steps."
   ]
  },
  {
   "cell_type": "code",
   "execution_count": 5,
   "metadata": {},
   "outputs": [
    {
     "name": "stdout",
     "output_type": "stream",
     "text": [
      "_________________________________________________________________\n",
      "Layer (type)                 Output Shape              Param #   \n",
      "=================================================================\n",
      "lstm_1 (LSTM)                (None, 50, 20)            1760      \n",
      "_________________________________________________________________\n",
      "lstm_2 (LSTM)                (None, 20)                3280      \n",
      "_________________________________________________________________\n",
      "dense_1 (Dense)              (None, 5)                 105       \n",
      "=================================================================\n",
      "Total params: 5,145\n",
      "Trainable params: 5,145\n",
      "Non-trainable params: 0\n",
      "_________________________________________________________________\n",
      "None\n"
     ]
    }
   ],
   "source": [
    "# configure problem\n",
    "length = 50 # length of the signal\n",
    "NS = 1 #Number of the signal\n",
    "output = 5 # to be predicted\n",
    "model = Sequential()\n",
    "model.add(LSTM(20, return_sequences=True, input_shape=(length, NS)))\n",
    "model.add(LSTM(20))\n",
    "model.add(Dense(output))\n",
    "model.compile(loss='mae', optimizer='adam')\n",
    "print(model.summary())"
   ]
  },
  {
   "cell_type": "markdown",
   "metadata": {},
   "source": [
    "We will generate 10,000 random damped sine wave examples to \f",
    "t the model and \f",
    "t the\n",
    "model using one epoch of this dataset:"
   ]
  },
  {
   "cell_type": "code",
   "execution_count": 10,
   "metadata": {},
   "outputs": [
    {
     "name": "stdout",
     "output_type": "stream",
     "text": [
      "Epoch 1/1\n",
      "10000/10000 [==============================] - 95s 9ms/step - loss: 0.0186\n"
     ]
    },
    {
     "data": {
      "text/plain": [
       "<keras.callbacks.History at 0x1d554684cc0>"
      ]
     },
     "execution_count": 10,
     "metadata": {},
     "output_type": "execute_result"
    }
   ],
   "source": [
    "# fit model\n",
    "X, y = generate_examples(length, 10000, output)\n",
    "model.fit(X, y, batch_size=10, epochs=1)"
   ]
  },
  {
   "cell_type": "markdown",
   "metadata": {},
   "source": [
    "Here we will generate 10,000 random damped sine wave examples to fit the model with 10 batch size (he model weights will be updated and the LSTM memory cell internal state will be\n",
    "reset after each 10 samples.). This is like fitting the model for 10,000 epochs. "
   ]
  },
  {
   "cell_type": "code",
   "execution_count": 14,
   "metadata": {},
   "outputs": [
    {
     "name": "stdout",
     "output_type": "stream",
     "text": [
      "MAE: 0.013814\n"
     ]
    }
   ],
   "source": [
    "X, y = generate_examples(length, 1000, output)\n",
    "loss = model.evaluate(X, y, verbose=0)\n",
    "print('MAE: %f' % loss)"
   ]
  },
  {
   "cell_type": "code",
   "execution_count": 15,
   "metadata": {},
   "outputs": [
    {
     "data": {
      "image/png": "[encoded data removed]",
      "text/plain": [
       "<matplotlib.figure.Figure at 0x1d554997b00>"
      ]
     },
     "metadata": {},
     "output_type": "display_data"
    }
   ],
   "source": [
    "# prediction on new data\n",
    "X, y = generate_examples(length, 1, output)\n",
    "yhat = model.predict(X, verbose=0)\n",
    "pyplot.plot(y[0], label='y')\n",
    "pyplot.plot(yhat[0], label='yhat')\n",
    "pyplot.legend()\n",
    "pyplot.show()"
   ]
  },
  {
   "cell_type": "markdown",
   "metadata": {},
   "source": [
    "## CNN LSTMs\n",
    "\n",
    "1. INPUT > 2. CNN > 3. LSTM > 4. DENSE > 5. OUTPUT\n",
    "\n",
    "\n",
    "\n",
    "- The CNN LSTM architecture involves using Convolutional Neural Network (CNN) layers for feature extraction on input data combined with LSTMs to support sequence prediction. CNN LSTMs were developed for visual time series prediction problems and the application of generating textual descriptions from sequences of images (e.g. videos).\n",
    "\n",
    "- The CNN LSTM architecture involves using Convolutional Neural Network (CNN) layers for feature extraction on input data combined with LSTMs to support sequence prediction. CNN LSTMs were developed for visual time series prediction problems and the application of generating textual descriptions from sequences of images (e.g. videos).\n"
   ]
  },
  {
   "cell_type": "markdown",
   "metadata": {},
   "source": [
    "#### CNN LSTM Model\n",
    "1. We can define a CNN LSTM model in Keras by firrst defining the CNN layer or layers, wrapping them in a TimeDistributed layer and then defining the LSTM and output layers:\n",
    "        #### define CNN model\n",
    "        cnn = Sequential()\n",
    "        cnn.add(Conv2D(...))\n",
    "        cnn.add(MaxPooling2D(...))\n",
    "        cnn.add(Flatten())\n",
    "        ##### define LSTM model\n",
    "        model = Sequential()\n",
    "        model.add(TimeDistributed(cnn, ...))\n",
    "        model.add(LSTM(..))\n",
    "        model.add(Dense(...))\n",
    "2. An alternate, and perhaps easier to read, approach is to wrap each layer in the CNN model in a TimeDistributed layer when adding it to the main model:\n",
    "        model = Sequential()\n",
    "        #### define CNN model\n",
    "        model.add(TimeDistributed(Conv2D(...))\n",
    "        model.add(TimeDistributed(MaxPooling2D(...)))\n",
    "        model.add(TimeDistributed(Flatten()))\n",
    "        #### define LSTM model\n",
    "        model.add(LSTM(...))\n",
    "        model.add(Dense(...))\n"
   ]
  },
  {
   "cell_type": "markdown",
   "metadata": {},
   "source": [
    "###### Moving Square Video Prediction Problem\n",
    "\n",
    "- Many-to-one problem\n",
    "- Each image is generated and stored for a 2D CNN [width, height, channels]\n",
    "- Since we have multiple images, then multiple sequences of images, the input of the model should be: [samples, timesteps, width, height, channels], timesteps here is the size of sequencer or number of images for one trainin\n",
    "- The use of a TimeDistributed wrapper around the whole CNN model means that the LSTM will see 50 time steps, with each time step presenting a 1,152 element vector as input."
   ]
  },
  {
   "cell_type": "code",
   "execution_count": 30,
   "metadata": {},
   "outputs": [],
   "source": [
    "from random import random\n",
    "from random import randint\n",
    "from numpy import array\n",
    "from numpy import zeros\n",
    "from keras.models import Sequential\n",
    "from keras.layers import Conv2D\n",
    "from keras.layers import MaxPooling2D\n",
    "from keras.layers import LSTM\n",
    "from keras.layers import Dense\n",
    "from keras.layers import Flatten\n",
    "from keras.layers import TimeDistributed\n",
    "# generate the next frame in the sequence\n",
    "def next_frame(last_step, last_frame, column):\n",
    "    # define the scope of the next step\n",
    "    lower = max(0, last_step-1)\n",
    "    upper = min(last_frame.shape[0]-1, last_step+1)\n",
    "    # choose the row index for the next step\n",
    "    step = randint(lower, upper)\n",
    "    # copy the prior frame\n",
    "    frame = last_frame.copy()\n",
    "    # add the new step\n",
    "    frame[step, column] = 1\n",
    "    return frame, step\n",
    "# generate a sequence of frames of a dot moving across an image\n",
    "def build_frames(size):\n",
    "    frames = list()\n",
    "    # create the first frame\n",
    "    frame = zeros((size,size))\n",
    "    step = randint(0, size-1)\n",
    "    # decide if we are heading left or right\n",
    "    right = 1 if random() < 0.5 else 0\n",
    "    col = 0 if right else size-1\n",
    "    frame[step, col] = 1\n",
    "    frames.append(frame)\n",
    "    # create all remaining frames\n",
    "    for i in range(1, size):\n",
    "        col = i if right else size-1-i\n",
    "        frame, step = next_frame(step, frame, col)\n",
    "        frames.append(frame)\n",
    "    return frames, right\n",
    "# generate multiple sequences of frames and reshape for network input\n",
    "def generate_examples(size, n_patterns):\n",
    "    X, y = list(), list()\n",
    "    for _ in range(n_patterns):\n",
    "        frames, right = build_frames(size)\n",
    "        X.append(frames)\n",
    "        y.append(right)\n",
    "    # resize as [samples, timesteps, width, height, channels]\n",
    "    X = array(X).reshape(n_patterns, size, size, size, 1)\n",
    "    y = array(y).reshape(n_patterns, 1)\n",
    "    return X, y\n"
   ]
  },
  {
   "cell_type": "code",
   "execution_count": 31,
   "metadata": {},
   "outputs": [
    {
     "name": "stdout",
     "output_type": "stream",
     "text": [
      "_________________________________________________________________\n",
      "Layer (type)                 Output Shape              Param #   \n",
      "=================================================================\n",
      "time_distributed_4 (TimeDist (None, None, 49, 49, 2)   10        \n",
      "_________________________________________________________________\n",
      "time_distributed_5 (TimeDist (None, None, 24, 24, 2)   0         \n",
      "_________________________________________________________________\n",
      "time_distributed_6 (TimeDist (None, None, 1152)        0         \n",
      "_________________________________________________________________\n",
      "lstm_4 (LSTM)                (None, 50)                240600    \n",
      "_________________________________________________________________\n",
      "dense_3 (Dense)              (None, 1)                 51        \n",
      "=================================================================\n",
      "Total params: 240,661\n",
      "Trainable params: 240,661\n",
      "Non-trainable params: 0\n",
      "_________________________________________________________________\n",
      "None\n"
     ]
    }
   ],
   "source": [
    "# configure problem\n",
    "size = 50\n",
    "# define the model\n",
    "model = Sequential()\n",
    "model.add(TimeDistributed(Conv2D(2, (2,2), activation='relu'),\n",
    "input_shape=(None,size,size,1)))\n",
    "model.add(TimeDistributed(MaxPooling2D(pool_size=(2, 2))))\n",
    "model.add(TimeDistributed(Flatten()))\n",
    "model.add(LSTM(50))\n",
    "model.add(Dense(1, activation='sigmoid'))\n",
    "model.compile(loss='binary_crossentropy', optimizer='adam', metrics=['acc'])\n",
    "print(model.summary())"
   ]
  },
  {
   "cell_type": "markdown",
   "metadata": {},
   "source": [
    "#### NOTE:\n",
    "Here we will train the model on a single epoch of 5,000 randomly generated sequences. Ideally, the internal state of the LSTM would be reset at the end of each sequence. We could achieve this by setting the batch size to 1. We will trade off the fidelity of the model for computational effciency and set the batch size to 32."
   ]
  },
  {
   "cell_type": "code",
   "execution_count": 32,
   "metadata": {},
   "outputs": [
    {
     "name": "stdout",
     "output_type": "stream",
     "text": [
      "Epoch 1/1\n",
      "5000/5000 [==============================] - 23s 5ms/step - loss: 0.1365 - acc: 0.9368\n",
      "loss: 0.036477, acc: 99.000000\n",
      "Expected: Left, Predicted: Left\n"
     ]
    }
   ],
   "source": [
    "# fit model\n",
    "X, y = generate_examples(size, 5000)\n",
    "model.fit(X, y, batch_size=32, epochs=1)\n",
    "# evaluate model\n",
    "X, y = generate_examples(size, 100)\n",
    "loss, acc = model.evaluate(X, y, verbose=0)\n",
    "print('loss: %f, acc: %f' % (loss, acc*100))\n",
    "# prediction on new data\n",
    "X, y = generate_examples(size, 1)\n",
    "yhat = model.predict_classes(X, verbose=0)\n",
    "expected = \"Right\" if y[0]==1 else \"Left\"\n",
    "predicted = \"Right\" if yhat[0]==1 else \"Left\"\n",
    "print('Expected: %s, Predicted: %s' % (expected, predicted))"
   ]
  },
  {
   "cell_type": "markdown",
   "metadata": {},
   "source": [
    "# Encoder-Decoder LSTMs\n",
    "\n",
    "- There is a challenging type of sequence prediction problem that takes a sequence as input and requires a sequence prediction as output. These are called sequence-to-sequence prediction problems, or seq2seq for short. One modeling concern that makes these problems challenging is that the length of the input and output sequences may vary. Given that there are multiple input time steps and multiple output time steps, this form of problem is referred to as many-to-many type sequence prediction problem.\n",
    "\n",
    "- This architecture is comprised of two models: one for reading the input sequence and encoding it into a fixed-length vector, and a second for decoding the fixed-length vector and outputting the predicted sequence.\n",
    "\n",
    "- Input > Encoder > Decoder > Dense > Output\n",
    "\n",
    "- Applications: Machine Translation, Learning to Execute, Image Captioning, Conversational Modeling, Movement Classification,"
   ]
  },
  {
   "cell_type": "markdown",
   "metadata": {},
   "source": [
    "### Implementation:\n",
    "\n",
    "1- Encoding model to learn the relationship between the steps in the input sequence and develop an internal representation of these relationships. One or more LSTM layers can be used to implement the encoder model. The output of this\n",
    "model is a fixed-size vector that represents the internal representation of the input sequence.\n",
    "\n",
    "2- The RepeatVector layer can be used like an adapter to fit the fixed-sized 2D output of the encoder to the differing length and 3D input expected by the decoder.\n",
    "\n",
    "3- The decoder must transform the learned internal representation of the input sequence into the correct output sequence. One or more LSTM layers can also be used to implement the decoder model. This model reads from the \f",
    "xed sized output from the encoder model.\n",
    "\n",
    "4- A Dense layer is used as the output for the network.\n",
    "\n",
    "  "
   ]
  },
  {
   "cell_type": "markdown",
   "metadata": {},
   "source": [
    "##### EX. '1' '0' '+' '6' >> '1' '6' "
   ]
  },
  {
   "cell_type": "markdown",
   "metadata": {},
   "source": [
    "# The Bidirectional LSTM\n",
    "\n",
    "- Bidirectional LSTMs focus on the problem of getting the most out of the input sequence by stepping through input time steps in both the forward and backward directions. \n",
    "\n",
    "- This architecture involves duplicating the first recurrent layer in the network so that there are now two layers side-by-side, then providing the input sequence as-is as input to the first layer and providing a reversed copy of the input sequence to the second.\n",
    "\n",
    "#### Implementation:\n",
    "\n",
    "- The LSTM layer in Keras allow you to specify the directionality of the input sequence. This can be done by setting the go backwards argument to True (defaults to False).\n",
    "\n",
    "        model = Sequential()\n",
    "        model.add(LSTM(..., input_shape=(...), go_backwards=True))\n",
    "\n",
    "- Bidirectional LSTMs are a small step on top of this capability. Speciffically, Bidirectional LSTMs are supported in Keras via the Bidirectional layer wrapper that essentially merges the output from two parallel LSTMs, one with input processed forward and one with output processed backwards.\n",
    "\n",
    "        model = Sequential()\n",
    "        model.add(Bidirectional(LSTM(...), input_shape=(...)))\n",
    "        ...\n",
    "- The Bidirectional wrapper layer also allows you to specify the merge mode; that is how the forward and backward outputs should be combined before being passed on to the next layer. The options are:\n",
    "         `sum': The outputs are added together.\n",
    "         `mul': The outputs are multiplied together.    \n",
    "         `concat': The outputs are concatenated together (the default), providing double the number of outputs to the next layer.\n",
    "         `ave': The average of the outputs is taken.\n",
    "        \n",
    "        \n",
    "##### Ex. \n",
    "- Once the cumulative sum of the input values (random values between 0 and 1) in the sequence exceeds a threshold, then the output value flips from 0 to 1. A threshold of one quarter ( 1 / 4 ) the sequence length is used.\n",
    "\n",
    "- Technically, this means this is a sequence-to-sequence prediction problem that requires a many-to-many prediction model. It is also the case that the input and output sequences have the same number of time steps (length)."
   ]
  },
  {
   "cell_type": "code",
   "execution_count": 36,
   "metadata": {},
   "outputs": [
    {
     "name": "stdout",
     "output_type": "stream",
     "text": [
      "_________________________________________________________________\n",
      "Layer (type)                 Output Shape              Param #   \n",
      "=================================================================\n",
      "bidirectional_1 (Bidirection (None, 10, 100)           20800     \n",
      "_________________________________________________________________\n",
      "time_distributed_7 (TimeDist (None, 10, 1)             101       \n",
      "=================================================================\n",
      "Total params: 20,901\n",
      "Trainable params: 20,901\n",
      "Non-trainable params: 0\n",
      "_________________________________________________________________\n",
      "None\n",
      "Epoch 1/1\n",
      "50000/50000 [==============================] - 181s 4ms/step - loss: 0.0496 - acc: 0.9820\n",
      "Loss: 0.020950, Accuracy: 99.500000\n",
      "y=[0 0 0 0 1 1 1 1 1 1], yhat=[0 0 0 0 1 1 1 1 1 1], correct=True\n",
      "y=[0 0 0 0 0 1 1 1 1 1], yhat=[0 0 0 0 0 1 1 1 1 1], correct=True\n",
      "y=[0 0 0 0 0 1 1 1 1 1], yhat=[0 0 0 0 0 1 1 1 1 1], correct=True\n",
      "y=[0 0 0 0 0 0 0 0 1 1], yhat=[0 0 0 0 0 0 0 0 1 1], correct=True\n",
      "y=[0 0 0 0 0 0 1 1 1 1], yhat=[0 0 0 0 0 0 1 1 1 1], correct=True\n",
      "y=[0 0 0 0 0 0 0 0 0 1], yhat=[0 0 0 0 0 0 0 0 1 1], correct=False\n",
      "y=[0 0 0 0 0 0 1 1 1 1], yhat=[0 0 0 0 0 0 1 1 1 1], correct=True\n",
      "y=[0 0 0 0 0 1 1 1 1 1], yhat=[0 0 0 0 0 1 1 1 1 1], correct=True\n",
      "y=[0 0 0 0 0 1 1 1 1 1], yhat=[0 0 0 0 0 1 1 1 1 1], correct=True\n",
      "y=[0 0 0 0 0 0 0 0 1 1], yhat=[0 0 0 0 0 0 0 0 1 1], correct=True\n"
     ]
    }
   ],
   "source": [
    "from random import random\n",
    "from numpy import array\n",
    "from numpy import cumsum\n",
    "from numpy import array_equal\n",
    "from keras.models import Sequential\n",
    "from keras.layers import LSTM\n",
    "from keras.layers import Dense\n",
    "from keras.layers import TimeDistributed\n",
    "from keras.layers import Bidirectional\n",
    "# create a cumulative sum sequence\n",
    "def get_sequence(n_timesteps):\n",
    "    # create a sequence of random numbers in [0,1]\n",
    "    X = array([random() for _ in range(n_timesteps)])\n",
    "    # calculate cut-off value to change class values\n",
    "    limit = n_timesteps/4.0\n",
    "    # determine the class outcome for each item in cumulative sequence\n",
    "    y = array([0 if x < limit else 1 for x in cumsum(X)])\n",
    "    return X, y\n",
    "# create multiple samples of cumulative sum sequences\n",
    "def get_sequences(n_sequences, n_timesteps):\n",
    "    seqX, seqY = list(), list()\n",
    "    # create and store sequences\n",
    "    for _ in range(n_sequences):\n",
    "        X, y = get_sequence(n_timesteps)\n",
    "        seqX.append(X)\n",
    "        seqY.append(y)\n",
    "    # reshape input and output for lstm\n",
    "    seqX = array(seqX).reshape(n_sequences, n_timesteps, 1)\n",
    "    seqY = array(seqY).reshape(n_sequences, n_timesteps, 1)\n",
    "    return seqX, seqY\n",
    "# define problem\n",
    "n_timesteps = 10\n",
    "# define LSTM\n",
    "model = Sequential()\n",
    "model.add(Bidirectional(LSTM(50, return_sequences=True), input_shape=(n_timesteps, 1)))\n",
    "model.add(TimeDistributed(Dense(1, activation='sigmoid')))\n",
    "model.compile(loss='binary_crossentropy', optimizer='adam', metrics=['acc'])\n",
    "print(model.summary())\n",
    "# train LSTM\n",
    "X, y = get_sequences(50000, n_timesteps)\n",
    "model.fit(X, y, epochs=1, batch_size=10)\n",
    "# evaluate LSTM\n",
    "X, y = get_sequences(100, n_timesteps)\n",
    "loss, acc = model.evaluate(X, y, verbose=0)\n",
    "print('Loss: %f, Accuracy: %f' % (loss, acc*100))\n",
    "# make predictions\n",
    "for _ in range(10):\n",
    "    X, y = get_sequences(1, n_timesteps)\n",
    "    yhat = model.predict_classes(X, verbose=0)\n",
    "    exp, pred = y.reshape(n_timesteps), yhat.reshape(n_timesteps)\n",
    "    print('y=%s, yhat=%s, correct=%s' % (exp, pred, array_equal(exp,pred)))"
   ]
  },
  {
   "cell_type": "markdown",
   "metadata": {},
   "source": [
    "## The Generative LSTM"
   ]
  },
  {
   "cell_type": "code",
   "execution_count": null,
   "metadata": {},
   "outputs": [],
   "source": []
  }
 ],
 "metadata": {
  "kernelspec": {
   "display_name": "Python 3",
   "language": "python",
   "name": "python3"
  },
  "language_info": {
   "codemirror_mode": {
    "name": "ipython",
    "version": 3
   },
   "file_extension": ".py",
   "mimetype": "text/x-python",
   "name": "python",
   "nbconvert_exporter": "python",
   "pygments_lexer": "ipython3",
   "version": "3.5.4"
  }
 },
 "nbformat": 4,
 "nbformat_minor": 2
}
